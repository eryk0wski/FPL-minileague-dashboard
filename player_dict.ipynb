{
 "cells": [
  {
   "cell_type": "code",
   "execution_count": 1,
   "id": "933eb443-9b0b-44a3-91cc-fb5ec49b51c1",
   "metadata": {},
   "outputs": [],
   "source": [
    "import json\n",
    "import requests\n",
    "\n",
    "URL = 'https://fantasy.premierleague.com/api/bootstrap-static/'\n",
    "page = requests.get(URL)\n",
    "data = json.loads(page.text)\n",
    "\n",
    "id = []\n",
    "name = []\n",
    "\n",
    "for i in range(len(data['elements'])):\n",
    "    id.append(data['elements'][i]['id'])\n",
    "    name.append(data['elements'][i]['web_name'])\n",
    "\n",
    "players_dict = dict(zip(id,name))\n",
    "\n",
    "with open('fpl_pd.json'.format(1), 'w', encoding='utf-8') as file:\n",
    "    json.dump(players_dict, file, ensure_ascii=False)\n",
    "\n",
    "\n"
   ]
  },
  {
   "cell_type": "code",
   "execution_count": null,
   "id": "0a6f0cdc-6e87-4cab-854b-416704d177f6",
   "metadata": {},
   "outputs": [],
   "source": []
  },
  {
   "cell_type": "code",
   "execution_count": null,
   "id": "b46b924f-78f3-4470-8805-9299c6a24c47",
   "metadata": {},
   "outputs": [],
   "source": []
  }
 ],
 "metadata": {
  "kernelspec": {
   "display_name": "Python 3 (ipykernel)",
   "language": "python",
   "name": "python3"
  },
  "language_info": {
   "codemirror_mode": {
    "name": "ipython",
    "version": 3
   },
   "file_extension": ".py",
   "mimetype": "text/x-python",
   "name": "python",
   "nbconvert_exporter": "python",
   "pygments_lexer": "ipython3",
   "version": "3.11.1"
  }
 },
 "nbformat": 4,
 "nbformat_minor": 5
}
