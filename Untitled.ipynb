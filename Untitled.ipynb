{
 "cells": [
  {
   "cell_type": "code",
   "execution_count": 3,
   "id": "ae353388-2125-4f5f-8f97-0b7e703f8030",
   "metadata": {},
   "outputs": [],
   "source": [
    "import requests\n",
    "import json\n",
    "import pandas as pd"
   ]
  },
  {
   "cell_type": "code",
   "execution_count": 4,
   "id": "57b4198a-7292-466d-abda-443f30096d0f",
   "metadata": {},
   "outputs": [],
   "source": [
    "entry = 1515069\n",
    "gw_transfers_url = 'https://fantasy.premierleague.com/api/entry/' + str(entry) + '/transfers/'\n",
    "gw_transfers_site = requests.get(gw_transfers_url)\n",
    "gw_transfers_data = json.loads(gw_transfers_site.text)"
   ]
  },
  {
   "cell_type": "code",
   "execution_count": 5,
   "id": "9f073865-a292-456c-8d36-653eaf48b23c",
   "metadata": {},
   "outputs": [
    {
     "name": "stdout",
     "output_type": "stream",
     "text": [
      "[{'element_in': 60, 'element_in_cost': 83, 'element_out': 343, 'element_out_cost': 70, 'entry': 1515069, 'event': 10, 'time': '2023-10-27T15:12:05.338805Z'}, {'element_in': 19, 'element_in_cost': 86, 'element_out': 516, 'element_out_cost': 94, 'entry': 1515069, 'event': 10, 'time': '2023-10-27T15:12:05.331243Z'}, {'element_in': 343, 'element_in_cost': 70, 'element_out': 60, 'element_out_cost': 80, 'entry': 1515069, 'event': 8, 'time': '2023-10-05T08:24:25.774213Z'}, {'element_in': 308, 'element_in_cost': 126, 'element_out': 19, 'element_out_cost': 85, 'entry': 1515069, 'event': 8, 'time': '2023-10-05T08:24:25.773915Z'}, {'element_in': 228, 'element_in_cost': 45, 'element_out': 430, 'element_out_cost': 68, 'entry': 1515069, 'event': 8, 'time': '2023-10-05T08:24:25.773510Z'}, {'element_in': 407, 'element_in_cost': 46, 'element_out': 131, 'element_out_cost': 51, 'entry': 1515069, 'event': 8, 'time': '2023-10-05T08:24:25.772932Z'}, {'element_in': 33, 'element_in_cost': 45, 'element_out': 490, 'element_out_cost': 44, 'entry': 1515069, 'event': 8, 'time': '2023-10-03T21:21:35.766538Z'}, {'element_in': 60, 'element_in_cost': 80, 'element_out': 343, 'element_out_cost': 69, 'entry': 1515069, 'event': 8, 'time': '2023-10-03T21:21:35.766319Z'}, {'element_in': 599, 'element_in_cost': 67, 'element_out': 396, 'element_out_cost': 88, 'entry': 1515069, 'event': 8, 'time': '2023-10-03T21:21:35.766091Z'}, {'element_in': 516, 'element_in_cost': 93, 'element_out': 373, 'element_out_cost': 84, 'entry': 1515069, 'event': 8, 'time': '2023-10-03T21:21:35.765866Z'}, {'element_in': 526, 'element_in_cost': 72, 'element_out': 108, 'element_out_cost': 67, 'entry': 1515069, 'event': 8, 'time': '2023-10-03T21:21:35.765627Z'}, {'element_in': 36, 'element_in_cost': 49, 'element_out': 405, 'element_out_cost': 46, 'entry': 1515069, 'event': 8, 'time': '2023-10-03T21:21:35.765395Z'}, {'element_in': 430, 'element_in_cost': 68, 'element_out': 160, 'element_out_cost': 40, 'entry': 1515069, 'event': 8, 'time': '2023-10-03T21:21:35.765153Z'}, {'element_in': 602, 'element_in_cost': 40, 'element_out': 20, 'element_out_cost': 51, 'entry': 1515069, 'event': 8, 'time': '2023-10-03T21:21:35.764884Z'}, {'element_in': 524, 'element_in_cost': 42, 'element_out': 101, 'element_out_cost': 45, 'entry': 1515069, 'event': 8, 'time': '2023-10-03T21:21:35.764548Z'}, {'element_in': 405, 'element_in_cost': 45, 'element_out': 195, 'element_out_cost': 56, 'entry': 1515069, 'event': 6, 'time': '2023-09-20T14:00:06.729674Z'}, {'element_in': 343, 'element_in_cost': 68, 'element_out': 211, 'element_out_cost': 70, 'entry': 1515069, 'event': 6, 'time': '2023-09-19T20:46:24.900339Z'}, {'element_in': 101, 'element_in_cost': 45, 'element_out': 230, 'element_out_cost': 45, 'entry': 1515069, 'event': 5, 'time': '2023-09-16T09:48:15.649360Z'}, {'element_in': 108, 'element_in_cost': 67, 'element_out': 12, 'element_out_cost': 80, 'entry': 1515069, 'event': 4, 'time': '2023-08-27T21:25:33.292818Z'}, {'element_in': 211, 'element_in_cost': 70, 'element_out': 135, 'element_out_cost': 55, 'entry': 1515069, 'event': 3, 'time': '2023-08-23T10:32:37.764316Z'}]\n"
     ]
    }
   ],
   "source": [
    "print(gw_transfers_data)"
   ]
  },
  {
   "cell_type": "code",
   "execution_count": 14,
   "id": "e3161efa-4f44-4a06-9d72-a3c7f03eee39",
   "metadata": {},
   "outputs": [
    {
     "ename": "TypeError",
     "evalue": "list indices must be integers or slices, not str",
     "output_type": "error",
     "traceback": [
      "\u001b[1;31m---------------------------------------------------------------------------\u001b[0m",
      "\u001b[1;31mTypeError\u001b[0m                                 Traceback (most recent call last)",
      "Cell \u001b[1;32mIn[14], line 1\u001b[0m\n\u001b[1;32m----> 1\u001b[0m \u001b[38;5;28;01mfor\u001b[39;00m i \u001b[38;5;129;01min\u001b[39;00m \u001b[38;5;28mrange\u001b[39m(\u001b[38;5;28mlen\u001b[39m(\u001b[43mgw_transfers_data\u001b[49m\u001b[43m[\u001b[49m\u001b[38;5;124;43m'\u001b[39;49m\u001b[38;5;124;43melement_in\u001b[39;49m\u001b[38;5;124;43m'\u001b[39;49m\u001b[43m]\u001b[49m)):\n\u001b[0;32m      2\u001b[0m     \u001b[38;5;28mprint\u001b[39m(i)\n",
      "\u001b[1;31mTypeError\u001b[0m: list indices must be integers or slices, not str"
     ]
    }
   ],
   "source": [
    "for i in range(len(gw_transfers_data[0]['element_in'])):\n",
    "    print(i)"
   ]
  },
  {
   "cell_type": "code",
   "execution_count": 21,
   "id": "29e3221f-cfb7-4203-8a15-d9781b0f01ac",
   "metadata": {},
   "outputs": [
    {
     "name": "stdout",
     "output_type": "stream",
     "text": [
      "19\n"
     ]
    }
   ],
   "source": [
    "print((gw_transfers_data)[1]['element_in'])"
   ]
  }
 ],
 "metadata": {
  "kernelspec": {
   "display_name": "Python 3 (ipykernel)",
   "language": "python",
   "name": "python3"
  },
  "language_info": {
   "codemirror_mode": {
    "name": "ipython",
    "version": 3
   },
   "file_extension": ".py",
   "mimetype": "text/x-python",
   "name": "python",
   "nbconvert_exporter": "python",
   "pygments_lexer": "ipython3",
   "version": "3.11.1"
  }
 },
 "nbformat": 4,
 "nbformat_minor": 5
}
